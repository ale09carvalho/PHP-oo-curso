{
 "cells": [
  {
   "cell_type": "markdown",
   "id": "c1a8c316",
   "metadata": {},
   "source": [
    "Curso PHPProgramando com Orientação a Objetos e Design Patterns\n",
    "•\tCriar SISTEMAS do zero, criando seus próprios componentes utilizando Patterns <br/>\n",
    "<br/>MÓDULO 1 Introdução ao PHP Tipagem; Operadores; Constantes; Funções; Variáveis; Manipulação de arquivos; Strings e arrays.\n",
    "<br/>MÓDULO 2 Fundamentos de Orientação a Objetos Procedural vs OO; Classes, métodos; Construtores, destrutores; Herança, agregação, composição; Abstração, encapsulamento; Interfaces; Design patrens.\n",
    "<br/>MÓDULO 3 7 passos da estruturada à OO Acesso nativo ao BD; Programação procedural; Agrupando ações em scripts; Separando HTML com templates; Separando acesso a dados; Melhor conexão e segurança; Controladores de páginas\n",
    "<br/>MÓDULO 4 Tópicos especiais em OO Erros e exceptions; Manipulação de XML; SPL e Reflection; Traits; Injeção de dependência; PSR e Namespaces; Composer. Apresentação\n",
    "<br/>MÓDULO 5 Persistência Gateways; Active Record; Data Mapper; Conexões e transações; Logs; Query Object; Repositores.\n",
    "<br/>MÓDULO 6 Apresentação e controle MVC; SPL Autoloaders; Page Controllers; Front Controller; REST Services; Componentes; Templates.\n",
    "<br/>MÓDULO 7 Formulários e listagens Formulários; Salvamento, edição; Decorators; Componentes; Datagrids; Ações de datagrid; Integração BD.\n",
    "<br/>MÓDULO 8 Criando uma aplicação O Index; O Template; O Modelo; Cadastros básicos; Pedido de vendas; Gráficos; Relatórios; Login.\n"
   ]
  }
 ],
 "metadata": {
  "language_info": {
   "name": "python"
  }
 },
 "nbformat": 4,
 "nbformat_minor": 5
}
